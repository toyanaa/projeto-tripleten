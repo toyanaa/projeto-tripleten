{
 "cells": [
  {
   "cell_type": "code",
   "execution_count": 6,
   "metadata": {},
   "outputs": [],
   "source": [
    "\n",
    "import pandas as pd\n",
    "import plotly.express as px\n",
    "\n",
    "# Especifique o caminho do arquivo CSV\n",
    "caminho_arquivo = r'C:\\Users\\regin\\OneDrive\\Desktop\\projeto-tripleten\\vehicles.csv'\n",
    "\n",
    "# Use pd.read_csv() para ler o arquivo CSV\n",
    "car_data = pd.read_csv(caminho_arquivo) # lendo os dados\n",
    "\n",
    "'''\n",
    "Como criar um histograma usando `plotly-express`.\n",
    "'''\n",
    "fig = px.histogram(car_data, x=\"odometer\") # criar um histograma\n",
    "fig.show() # exibindo\n",
    "\n",
    "print()\n",
    "\n",
    "'''\n",
    "Como criar um gráfico de dispersão nessa biblioteca.\n",
    "'''\n",
    "fig = px.scatter(car_data, x=\"odometer\", y=\"price\") # criar um gráfico de dispersão\n",
    "fig.show() # exibindo\n"
   ]
  }
 ],
 "metadata": {
  "kernelspec": {
   "display_name": "base",
   "language": "python",
   "name": "python3"
  },
  "language_info": {
   "codemirror_mode": {
    "name": "ipython",
    "version": 3
   },
   "file_extension": ".py",
   "mimetype": "text/x-python",
   "name": "python",
   "nbconvert_exporter": "python",
   "pygments_lexer": "ipython3",
   "version": "3.11.5"
  }
 },
 "nbformat": 4,
 "nbformat_minor": 2
}
